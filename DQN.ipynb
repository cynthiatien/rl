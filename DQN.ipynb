{
 "cells": [
  {
   "cell_type": "code",
   "execution_count": 1,
   "metadata": {},
   "outputs": [],
   "source": [
    "from collections import deque\n",
    "import random\n",
    "import gym\n",
    "import numpy as np\n",
    "\n",
    "import torch\n",
    "import torch.nn as nn\n",
    "import torch.optim as optim"
   ]
  },
  {
   "cell_type": "code",
   "execution_count": 2,
   "metadata": {},
   "outputs": [],
   "source": [
    "class Net(nn.Module):\n",
    "    def __init__(self, input_size, out_size, mlp_agent=True):\n",
    "        super(Net, self).__init__()\n",
    "        \n",
    "        self.input_size = input_size\n",
    "        self.out_size = out_size\n",
    "        \n",
    "        if mlp_agent:\n",
    "            self.agent = self._get_mlp_network()\n",
    "        else:\n",
    "            self.agent = self._get_conv_network()\n",
    "        \n",
    "    def forward(self, X):\n",
    "        # We have only mlp agent for now.\n",
    "        return self.agent(X)\n",
    "    \n",
    "    def get_action(self, state, epsilon):\n",
    "        if np.random.uniform() <= epsilon:\n",
    "            action = np.random.randint(0, self.out_size)\n",
    "        else:\n",
    "            # Maybe need to convert state to Pytorch Tensor. Not sure\n",
    "            # right now.\n",
    "            q_vals = self.forward(state)\n",
    "            action = q_vals.argmax()\n",
    "        \n",
    "        return action\n",
    "            \n",
    "    \n",
    "    def _get_mlp_network(self):\n",
    "        network = nn.Sequential(\n",
    "            nn.Linear(self.input_size, 64),\n",
    "            nn.ReLU(),\n",
    "            nn.Linear(64, 64),\n",
    "            nn.ReLU(),\n",
    "            nn.Linear(64, self.out_size)\n",
    "        )\n",
    "        return network\n",
    "    \n",
    "    def _get_conv_network(self):\n",
    "        pass"
   ]
  },
  {
   "cell_type": "code",
   "execution_count": 3,
   "metadata": {},
   "outputs": [],
   "source": [
    "class ReplayBuffer():\n",
    "    def __init__(self, buffer_size):\n",
    "        self.buffer_size = buffer_size\n",
    "        self.buffer = deque(maxlen=buffer_size)\n",
    "    \n",
    "    def __len__(self):\n",
    "        return len(self.buffer)\n",
    "    \n",
    "    def append(self, state, action, reward, next_state, done):\n",
    "        self.buffer.append((state, action, reward, next_state, done))\n",
    "    \n",
    "    def sample(self, batch_size):\n",
    "        random_samples = random.sample(self.buffer, k)\n",
    "        states, actions, rewards, next_states, dones = zip(*random_samples)\n",
    "        return np.vstack(states), actions, rewards, np.vstack(next_states), dones"
   ]
  },
  {
   "cell_type": "code",
   "execution_count": 4,
   "metadata": {},
   "outputs": [],
   "source": [
    "class DQNAgent(nn.Module):\n",
    "    def __init__(self, input_size, out_size, mlp_agent=True):\n",
    "        super(DQNAgent, self).__init__()\n",
    "        \n",
    "        self.agent = Net(input_size, out_size, mlp_agent)"
   ]
  },
  {
   "cell_type": "code",
   "execution_count": 5,
   "metadata": {},
   "outputs": [],
   "source": [
    "# Maybe put this funtion to above class. It would be more appropriate.\n",
    "# Also let the DQNAgent class to take optimizer, buffer and hyperparams\n",
    "# as an argument.\n",
    "def train_agent(agent, optimizer, replay_buffer, batch_size, gamma):\n",
    "    \n",
    "    # Convert to tensor.\n",
    "    \n",
    "    # Calculate the action_vals for current states and next states.\n",
    "    \n",
    "    # Calculate the target_vals\n",
    "    \n",
    "    # Calculate the loss\n",
    "    \n",
    "    # Optimize\n",
    "    \n",
    "    pass"
   ]
  },
  {
   "cell_type": "code",
   "execution_count": 6,
   "metadata": {},
   "outputs": [],
   "source": [
    "ENV_NAME = \"CartPole-v0\"\n",
    "\n",
    "EPSILON_START = 1.0\n",
    "EPSILON_END = 0.01\n",
    "EPSILON_DECAY = 1000\n",
    "\n",
    "BATCH_SIZE = 32\n",
    "BUFFER_SIZE = 1000"
   ]
  }
 ],
 "metadata": {
  "kernelspec": {
   "display_name": "Python 3",
   "language": "python",
   "name": "python3"
  },
  "language_info": {
   "codemirror_mode": {
    "name": "ipython",
    "version": 3
   },
   "file_extension": ".py",
   "mimetype": "text/x-python",
   "name": "python",
   "nbconvert_exporter": "python",
   "pygments_lexer": "ipython3",
   "version": "3.6.7"
  }
 },
 "nbformat": 4,
 "nbformat_minor": 2
}
